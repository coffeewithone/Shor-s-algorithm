{
 "cells": [
  {
   "cell_type": "markdown",
   "id": "ce6bfdbf",
   "metadata": {},
   "source": [
    "** Using Shor's algorithm, a number N can be factored  in polynomial time. In this example, we will factor 15 using a quantum algorithm. Qiskit will be used to implement the code."
   ]
  },
  {
   "cell_type": "markdown",
   "id": "1b7b142f",
   "metadata": {},
   "source": [
    "importing necessary libraries from Qiskit"
   ]
  },
  {
   "cell_type": "code",
   "execution_count": 1,
   "id": "8d17ea29",
   "metadata": {},
   "outputs": [],
   "source": [
    "import matplotlib.pyplot as plt\n",
    "import numpy as np\n",
    "from qiskit import QuantumCircuit, Aer, execute\n",
    "from math import gcd\n",
    "import pandas as pd\n",
    "from qiskit.visualization import plot_histogram"
   ]
  },
  {
   "cell_type": "markdown",
   "id": "e5ac7764",
   "metadata": {},
   "source": [
    "## Initializing the Qubits\n",
    "\n",
    "We will start by initializing a set of $n$ qubits with $2^n$ number of computational basis states in superposition. To create a superposition, a hadamard gate is then applied on n qubits so that they go from the |0> to |0>$^(n\\bigotimes)$."
   ]
  },
  {
   "cell_type": "code",
   "execution_count": 2,
   "id": "1aed21b3",
   "metadata": {},
   "outputs": [],
   "source": [
    "def initialize_qubits(given_circuit, n, m): \n",
    "\n",
    "    given_circuit.h(range(n))\n",
    "    given_circuit.x(n+m-1)"
   ]
  },
  {
   "cell_type": "markdown",
   "id": "b087bc25",
   "metadata": {},
   "source": [
    "## Modular Exponentiation\n",
    "\n",
    "We will use the fact that any prime number can be rewritten as $N=pq$ where $p$ and $q$ are primes to reframe the problem so that we can solve the equation $f(x)=a^x\\mod{n}$ for it's period."
   ]
  },
  {
   "cell_type": "code",
   "execution_count": 3,
   "id": "2caa0950",
   "metadata": {},
   "outputs": [],
   "source": [
    "from qiskit import QuantumCircuit\n",
    "\n",
    "def c_amod15(a, x):\n",
    "    if a not in [2,7,8,11,13]:\n",
    "        raise ValueError(\"'a' must be 2,7,8,11,13\")\n",
    "    U = QuantumCircuit(4)        \n",
    "    for iteration in range(x):\n",
    "        if a in [2,13]:\n",
    "            U.swap(0,1)\n",
    "            U.swap(1,2)\n",
    "            U.swap(2,3)\n",
    "        if a in [7,8]:\n",
    "            U.swap(2,3)\n",
    "            U.swap(1,2)\n",
    "            U.swap(0,1)\n",
    "        if a == 11:\n",
    "            U.swap(1,3)\n",
    "            U.swap(0,2)\n",
    "        if a in [7,11,13]:\n",
    "            for q in range(4):\n",
    "                U.x(q)\n",
    "    U = U.to_gate()\n",
    "    U.name = \"%i^%i mod 15\" % (a, x)\n",
    "    c_U = U.control()\n",
    "    return c_U"
   ]
  },
  {
   "cell_type": "code",
   "execution_count": 4,
   "id": "396e29df",
   "metadata": {},
   "outputs": [],
   "source": [
    "def modular_exponentiation(circuit, n, m, a):\n",
    "    \n",
    "\n",
    "    for x in range(n):\n",
    "        exponent = 2**x\n",
    "        circuit.append(c_amod15(a, exponent), \n",
    "                     [x] + list(range(n, n+m)))"
   ]
  },
  {
   "cell_type": "code",
   "execution_count": 5,
   "id": "cc1cceda",
   "metadata": {},
   "outputs": [],
   "source": [
    "from qiskit.circuit.library import QFT"
   ]
  },
  {
   "cell_type": "code",
   "execution_count": 6,
   "id": "652f9ac5",
   "metadata": {},
   "outputs": [],
   "source": [
    "def inverse_qft(circuit, measurement_qubits):\n",
    "    \n",
    "\n",
    "    circuit.append(QFT( len(measurement_qubits), do_swaps=False).inverse(), measurement_qubits)"
   ]
  },
  {
   "cell_type": "code",
   "execution_count": 7,
   "id": "21dd7681",
   "metadata": {},
   "outputs": [],
   "source": [
    "def shors_algorithm(n, m, a):\n",
    "    \n",
    "   \n",
    "    qc = QuantumCircuit(n+m, n)\n",
    "    \n",
    "  \n",
    "    initialize_qubits(qc, n, m)\n",
    "    qc.barrier()\n",
    "\n",
    "   \n",
    "    modular_exponentiation(qc, n, m, a)\n",
    "    qc.barrier()\n",
    "\n",
    " \n",
    "    inverse_qft(qc, range(n))\n",
    "\n",
    "    \n",
    "    qc.measure(range(n), range(n))\n",
    "    \n",
    "    return qc\n",
    "    \n",
    "n = 4; m = 4; a = 7\n",
    "final_circuit = shors_algorithm(n, m, a)"
   ]
  },
  {
   "cell_type": "code",
   "execution_count": 8,
   "id": "8152d9e4",
   "metadata": {
    "scrolled": true
   },
   "outputs": [
    {
     "data": {
      "image/png": "[encoded data removed]",
      "text/plain": [
       "<Figure size 1290.6x565.88 with 1 Axes>"
      ]
     },
     "execution_count": 8,
     "metadata": {},
     "output_type": "execute_result"
    }
   ],
   "source": [
    "final_circuit.draw(output='mpl')"
   ]
  },
  {
   "cell_type": "code",
   "execution_count": 11,
   "id": "92d79357",
   "metadata": {},
   "outputs": [],
   "source": [
    "simulator = Aer.get_backend('qasm_simulator')\n",
    "counts = execute(final_circuit, backend=simulator, shots=1000).result().get_counts(final_circuit)"
   ]
  },
  {
   "cell_type": "code",
   "execution_count": 12,
   "id": "59b7f864",
   "metadata": {},
   "outputs": [
    {
     "name": "stdout",
     "output_type": "stream",
     "text": [
      " {int(measured_value[::-1], 2)}\n",
      " {int(measured_value[::-1], 2)}\n",
      " {int(measured_value[::-1], 2)}\n",
      " {int(measured_value[::-1], 2)}\n",
      " {int(measured_value[::-1], 2)}\n",
      " {int(measured_value[::-1], 2)}\n",
      " {int(measured_value[::-1], 2)}\n",
      " {int(measured_value[::-1], 2)}\n",
      " {int(measured_value[::-1], 2)}\n",
      " {int(measured_value[::-1], 2)}\n",
      " {int(measured_value[::-1], 2)}\n",
      " {int(measured_value[::-1], 2)}\n",
      " {int(measured_value[::-1], 2)}\n"
     ]
    }
   ],
   "source": [
    "for measured_value in counts:\n",
    "    print(\" {int(measured_value[::-1], 2)}\")"
   ]
  },
  {
   "cell_type": "markdown",
   "id": "79710084",
   "metadata": {},
   "source": [
    "##Classical Computer Simulation"
   ]
  },
  {
   "cell_type": "code",
   "execution_count": null,
   "id": "9224bde1",
   "metadata": {},
   "outputs": [],
   "source": [
    "# Find the factors of a number\n",
    "\n",
    "# Computes the factor of the argument passed\n",
    "def print_factors(x):\n",
    "   print(\"The factors of\",x,\"are:\")\n",
    "   for i in range(1, x + 1): #loop through numbers from 1 to x\n",
    "       if x % i == 0: # if x is divisible by i (which is in the range of 1-x)\n",
    "           print(i)\n",
    "\n",
    "num = 15\n",
    "\n",
    "print_factors(num)"
   ]
  },
  {
   "cell_type": "code",
   "execution_count": 17,
   "id": "914c9ee9",
   "metadata": {},
   "outputs": [
    {
     "name": "stdout",
     "output_type": "stream",
     "text": [
      "Measured value not even\n",
      "Measured value not even\n"
     ]
    },
    {
     "ename": "NameError",
     "evalue": "name 'double' is not defined",
     "output_type": "error",
     "traceback": [
      "\u001b[0;31m---------------------------------------------------------------------------\u001b[0m",
      "\u001b[0;31mNameError\u001b[0m                                 Traceback (most recent call last)",
      "\u001b[0;32m/var/folders/2x/04jwh1t105qbpl19xqk4tyw80000gn/T/ipykernel_15840/3683736189.py\u001b[0m in \u001b[0;36m<module>\u001b[0;34m\u001b[0m\n\u001b[1;32m      6\u001b[0m         \u001b[0mprint\u001b[0m\u001b[0;34m(\u001b[0m\u001b[0;34m\"Measured value not even\"\u001b[0m\u001b[0;34m)\u001b[0m\u001b[0;34m\u001b[0m\u001b[0;34m\u001b[0m\u001b[0m\n\u001b[1;32m      7\u001b[0m         \u001b[0;32mcontinue\u001b[0m \u001b[0;31m#measured value should be even as we are doing a^(r/2) mod N and r/2 should be int\u001b[0m\u001b[0;34m\u001b[0m\u001b[0;34m\u001b[0m\u001b[0m\n\u001b[0;32m----> 8\u001b[0;31m     \u001b[0mx\u001b[0m \u001b[0;34m=\u001b[0m \u001b[0mint\u001b[0m\u001b[0;34m(\u001b[0m\u001b[0;34m(\u001b[0m\u001b[0ma\u001b[0m \u001b[0;34m**\u001b[0m \u001b[0;34m(\u001b[0m\u001b[0;34m(\u001b[0m\u001b[0mdouble\u001b[0m\u001b[0;34m)\u001b[0m\u001b[0;34m(\u001b[0m\u001b[0mmeasured_value\u001b[0m\u001b[0;34m)\u001b[0m\u001b[0;34m/\u001b[0m\u001b[0;36m2\u001b[0m\u001b[0;34m)\u001b[0m\u001b[0;34m)\u001b[0m \u001b[0;34m%\u001b[0m \u001b[0;36m15\u001b[0m\u001b[0;34m)\u001b[0m\u001b[0;34m\u001b[0m\u001b[0;34m\u001b[0m\u001b[0m\n\u001b[0m\u001b[1;32m      9\u001b[0m     \u001b[0;32mif\u001b[0m \u001b[0;34m(\u001b[0m\u001b[0mx\u001b[0m \u001b[0;34m+\u001b[0m \u001b[0;36m1\u001b[0m\u001b[0;34m)\u001b[0m \u001b[0;34m%\u001b[0m \u001b[0;36m15\u001b[0m \u001b[0;34m==\u001b[0m \u001b[0;36m0\u001b[0m\u001b[0;34m:\u001b[0m\u001b[0;34m\u001b[0m\u001b[0;34m\u001b[0m\u001b[0m\n\u001b[1;32m     10\u001b[0m         \u001b[0;32mcontinue\u001b[0m\u001b[0;34m\u001b[0m\u001b[0;34m\u001b[0m\u001b[0m\n",
      "\u001b[0;31mNameError\u001b[0m: name 'double' is not defined"
     ]
    }
   ],
   "source": [
    "for i in counts:\n",
    "    measured_value = int(i[::-1], 2)\n",
    "  \n",
    "    \n",
    "    if measured_value % 2 != 0:\n",
    "        print(\"Measured value not even\")\n",
    "        continue #measured value should be even as we are doing a^(r/2) mod N and r/2 should be int\n",
    "    x = int((a ** ((double)(measured_value)/2)) % 15)\n",
    "    if (x + 1) % 15 == 0:\n",
    "        continue\n",
    "    factors = gcd(x + 1, 15), gcd(x - 1, 15) #we saw earlier that a^(r/2)+1 or a^(r/2)-1 should be a factor of 15\n",
    "    print(factors)"
   ]
  },
  {
   "cell_type": "code",
   "execution_count": null,
   "id": "12cefac0",
   "metadata": {},
   "outputs": [],
   "source": []
  }
 ],
 "metadata": {
  "kernelspec": {
   "display_name": "Python 3 (ipykernel)",
   "language": "python",
   "name": "python3"
  },
  "language_info": {
   "codemirror_mode": {
    "name": "ipython",
    "version": 3
   },
   "file_extension": ".py",
   "mimetype": "text/x-python",
   "name": "python",
   "nbconvert_exporter": "python",
   "pygments_lexer": "ipython3",
   "version": "3.9.7"
  }
 },
 "nbformat": 4,
 "nbformat_minor": 5
}
